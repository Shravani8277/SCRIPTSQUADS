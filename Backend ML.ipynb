{
 "cells": [
  {
   "cell_type": "code",
   "execution_count": 1,
   "id": "3ee1ecdf",
   "metadata": {},
   "outputs": [
    {
     "name": "stdout",
     "output_type": "stream",
     "text": [
      "Simulated dataset saved.\n"
     ]
    }
   ],
   "source": [
    "import pandas as pd\n",
    "import numpy as np\n",
    "\n",
    "# Number of samples\n",
    "n_samples = 1000\n",
    "\n",
    "# Simulated data for 15 questions with answers ranging from 1 to 4\n",
    "X = np.random.randint(1, 5, size=(n_samples, 15))\n",
    "\n",
    "# Simulated disorders\n",
    "disorders = ['Anxiety', 'Depression', 'ADHD', 'OCD', 'No Disorder']\n",
    "y = np.random.choice(disorders, size=n_samples)\n",
    "\n",
    "# Create a DataFrame\n",
    "df = pd.DataFrame(X, columns=[f'q{i+1}' for i in range(15)])\n",
    "df['disorder'] = y\n",
    "\n",
    "# Save to CSV\n",
    "df.to_csv('simulated_mental_health_data.csv', index=False)\n",
    "\n",
    "print(\"Simulated dataset saved.\")\n"
   ]
  },
  {
   "cell_type": "code",
   "execution_count": 2,
   "id": "68df347d",
   "metadata": {},
   "outputs": [
    {
     "name": "stdout",
     "output_type": "stream",
     "text": [
      "   q1  q2  q3  q4  q5  q6  q7  q8  q9  q10  q11  q12  q13  q14  q15  \\\n",
      "0   1   2   1   3   1   3   1   1   1    4    3    4    2    2    4   \n",
      "1   3   1   4   1   4   3   1   3   3    1    3    4    4    3    1   \n",
      "2   3   4   1   2   2   3   1   3   3    3    1    3    4    1    3   \n",
      "3   1   1   4   3   4   2   4   4   2    3    2    4    1    3    3   \n",
      "4   2   4   1   4   2   3   4   4   2    2    2    1    2    3    3   \n",
      "\n",
      "     disorder  \n",
      "0        ADHD  \n",
      "1  Depression  \n",
      "2         OCD  \n",
      "3        ADHD  \n",
      "4        ADHD  \n"
     ]
    }
   ],
   "source": [
    "import pandas as pd\n",
    "\n",
    "# Load the dataset\n",
    "df = pd.read_csv('simulated_mental_health_data.csv')\n",
    "\n",
    "# Display the first few rows of the dataset\n",
    "print(df.head())\n"
   ]
  },
  {
   "cell_type": "code",
   "execution_count": null,
   "id": "4eef6781",
   "metadata": {},
   "outputs": [],
   "source": []
  }
 ],
 "metadata": {
  "kernelspec": {
   "display_name": "Python 3 (ipykernel)",
   "language": "python",
   "name": "python3"
  },
  "language_info": {
   "codemirror_mode": {
    "name": "ipython",
    "version": 3
   },
   "file_extension": ".py",
   "mimetype": "text/x-python",
   "name": "python",
   "nbconvert_exporter": "python",
   "pygments_lexer": "ipython3",
   "version": "3.10.9"
  }
 },
 "nbformat": 4,
 "nbformat_minor": 5
}
